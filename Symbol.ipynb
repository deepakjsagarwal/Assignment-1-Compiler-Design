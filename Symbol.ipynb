{
 "cells": [
  {
   "cell_type": "code",
   "execution_count": 11,
   "id": "b90e6e20",
   "metadata": {},
   "outputs": [],
   "source": [
    "%store -r tokens"
   ]
  },
  {
   "cell_type": "code",
   "execution_count": 12,
   "id": "bf9db3a9",
   "metadata": {},
   "outputs": [
    {
     "name": "stdout",
     "output_type": "stream",
     "text": [
      "['#include', '<', 'iostream', '>', 'using', 'namespace', 'std', ';', 'int', 'main', '(', ')', '{', 'int', 'first_number', ',', 'second_number', ',', 'sum', ';', 'char', 'c', '=', \"'d'\", ';', 'cout', '<<', '\"Enter two integers: \"', ';', 'cin', '>>', 'first_number', '>>', 'second_number', ';', 'sum', '=', 'first_number', '+', 'second_number', ';', 'if', '(', 'true', ')', '{', 'cout', '<<', '\"how are you\"', ';', '}', 'cout', '<<', 'first_number', '<<', '\" + \"', '<<', 'second_number', '<<', '\" = \"', '<<', 'sum', ';', 'return', '0', ';', '}']\n"
     ]
    }
   ],
   "source": [
    "print (tokens)"
   ]
  },
  {
   "cell_type": "code",
   "execution_count": 13,
   "id": "d110ba08",
   "metadata": {},
   "outputs": [],
   "source": [
    "keywords=[\"int\",\"float\",\"double\",\"char\",\"string\",\"using\",\"if\",\"else\",\"namespace\",\"return\",\"for\",\"while\",\"iostream\",\"cin\",\"cout\"]"
   ]
  },
  {
   "cell_type": "code",
   "execution_count": 14,
   "id": "8aa05fff",
   "metadata": {},
   "outputs": [],
   "source": [
    "datatype=[\"int\",\"double\",\"float\",\"char\",\"string\"]"
   ]
  },
  {
   "cell_type": "code",
   "execution_count": 15,
   "id": "9be7d58c",
   "metadata": {},
   "outputs": [],
   "source": [
    "symbols={}"
   ]
  },
  {
   "cell_type": "code",
   "execution_count": 16,
   "id": "8faf5219",
   "metadata": {},
   "outputs": [
    {
     "name": "stdout",
     "output_type": "stream",
     "text": [
      "{}\n"
     ]
    }
   ],
   "source": [
    "print(symbols)"
   ]
  },
  {
   "cell_type": "code",
   "execution_count": 17,
   "id": "c3e0fb76",
   "metadata": {},
   "outputs": [],
   "source": [
    "def isKeyword(s):\n",
    "    return s in keywords"
   ]
  },
  {
   "cell_type": "code",
   "execution_count": 18,
   "id": "8a6ab610",
   "metadata": {},
   "outputs": [],
   "source": [
    "def isIdentifier(s):\n",
    "    if(not((s[0]=='_')or(s[0]>='a' and s[0]<='z')or(s[0]>='A' and s[0]<='Z'))):\n",
    "        return False\n",
    "    for i in range(1,len(s)):\n",
    "        if(not((s[i]=='_')or(s[i]>='a' and s[i]<='z')or(s[i]>='A' and s[i]<='Z')or(s[i]>='0' and s[i]<='9'))):\n",
    "            return False\n",
    "    return True"
   ]
  },
  {
   "cell_type": "code",
   "execution_count": 19,
   "id": "7699f2d6",
   "metadata": {},
   "outputs": [],
   "source": [
    "s=\"void\"\n",
    "for i in range(0,len(tokens)):\n",
    "    if(tokens[i] in datatype):\n",
    "        s=tokens[i]\n",
    "    elif((not isKeyword(tokens[i]))and(isIdentifier(tokens[i]))):\n",
    "        if(not(tokens[i] in symbols)):\n",
    "            symbols[tokens[i]]=s\n",
    "    elif(not(tokens[i]==',')):\n",
    "        s=\"void\""
   ]
  },
  {
   "cell_type": "code",
   "execution_count": 20,
   "id": "d6b48ed6",
   "metadata": {},
   "outputs": [
    {
     "name": "stdout",
     "output_type": "stream",
     "text": [
      "{'std': 'void', 'main': 'int', 'first_number': 'int', 'second_number': 'int', 'sum': 'int', 'c': 'char', 'true': 'void'}\n"
     ]
    }
   ],
   "source": [
    "print(symbols)"
   ]
  },
  {
   "cell_type": "code",
   "execution_count": null,
   "id": "6f857bc6",
   "metadata": {},
   "outputs": [],
   "source": []
  }
 ],
 "metadata": {
  "kernelspec": {
   "display_name": "Python 3.8.10 ('env': venv)",
   "language": "python",
   "name": "python3"
  },
  "language_info": {
   "codemirror_mode": {
    "name": "ipython",
    "version": 3
   },
   "file_extension": ".py",
   "mimetype": "text/x-python",
   "name": "python",
   "nbconvert_exporter": "python",
   "pygments_lexer": "ipython3",
   "version": "3.8.10"
  },
  "vscode": {
   "interpreter": {
    "hash": "2989b705f35e5f39577c13e2abe37855b396301a6126773aa2a796deedf0eba4"
   }
  }
 },
 "nbformat": 4,
 "nbformat_minor": 5
}
