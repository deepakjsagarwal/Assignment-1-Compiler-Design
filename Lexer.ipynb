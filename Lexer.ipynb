{
 "cells": [
  {
   "cell_type": "code",
   "execution_count": 217,
   "id": "5825cf0e",
   "metadata": {},
   "outputs": [],
   "source": [
    "file = open(\"nocomma.cpp\",\"r\")"
   ]
  },
  {
   "cell_type": "code",
   "execution_count": 218,
   "id": "ae15775e",
   "metadata": {},
   "outputs": [],
   "source": [
    "inp = file.read()"
   ]
  },
  {
   "cell_type": "code",
   "execution_count": 219,
   "id": "0353966f",
   "metadata": {},
   "outputs": [
    {
     "data": {
      "text/plain": [
       "'#include <iostream>\\nusing namespace std;\\n\\nint main()\\n{\\n\\n  int first_number = -52; int sum;\\n  double a = first_number;\\n  int d = a + a;\\n  bool b = true;\\n  string s = \"anand\";\\n  char a = \\'a\\';\\n\\n  //   cout << \"Enter two integers: \";\\n  //   cin >> first_number;\\n\\n  // sum of two numbers in stored in variable sumOfTwoNumbers\\n  sum = first_number;\\n\\n  if (true)\\n  {\\n//     cout << \"how are you\";\\n      int my_num = first_number+a;\\n  } else {\\n      int b = 2;\\n  }\\n\\n  // prints sum\\n  // cout << first_number << \" + \"<< \" = \" << sum;\\n\\n  // return 0;\\n}'"
      ]
     },
     "execution_count": 219,
     "metadata": {},
     "output_type": "execute_result"
    }
   ],
   "source": [
    "inp"
   ]
  },
  {
   "cell_type": "code",
   "execution_count": 220,
   "id": "c10fd078",
   "metadata": {},
   "outputs": [],
   "source": [
    "def removeComments(inp):\n",
    "    parsed = \"\"\n",
    "    si = len(inp)\n",
    "    \n",
    "    sing_comm = False\n",
    "    mul_comm = False\n",
    "    \n",
    "    for i, ch in enumerate(inp):\n",
    "        if sing_comm:\n",
    "            if ch == '\\n':\n",
    "                sing_comm = False                \n",
    "        elif mul_comm:\n",
    "            if ch == '*' and (i+1<si and inp[i+1]=='/'):\n",
    "                mul_comm = False\n",
    "                \n",
    "        elif ch == '/':\n",
    "            if i+1<si and inp[i+1]=='/':\n",
    "                sing_comm = True\n",
    "            elif i+1<si and inp[i+1]=='*':\n",
    "                mul_comm = True\n",
    "            else:\n",
    "                parsed+=ch\n",
    "        else:\n",
    "            parsed+=ch\n",
    "    return parsed"
   ]
  },
  {
   "cell_type": "code",
   "execution_count": 221,
   "id": "27ba9a40",
   "metadata": {},
   "outputs": [],
   "source": [
    "inp = removeComments(inp)"
   ]
  },
  {
   "cell_type": "code",
   "execution_count": 222,
   "id": "a6229d35",
   "metadata": {},
   "outputs": [],
   "source": [
    "def checkOperator(c):\n",
    "    ops = [',',';',':','?','[',']','{','}','(',')','+','=','-','|','&','^','*','/','!','<','>','.']\n",
    "    return c in ops"
   ]
  },
  {
   "cell_type": "code",
   "execution_count": 223,
   "id": "d046401b",
   "metadata": {},
   "outputs": [],
   "source": [
    "def checkEqual(c):\n",
    "    ops = ['+','-','*','/','&','|','^','!','<','>']\n",
    "    return c in ops"
   ]
  },
  {
   "cell_type": "code",
   "execution_count": 224,
   "id": "d3fe6449",
   "metadata": {},
   "outputs": [],
   "source": [
    "def checkSame(c):\n",
    "    ops = ['+','-','&','|','<','>']\n",
    "    return c in ops"
   ]
  },
  {
   "cell_type": "code",
   "execution_count": 225,
   "id": "dc67a844",
   "metadata": {},
   "outputs": [],
   "source": [
    "def checkBrackets(c):\n",
    "    ops = ['[',']','{','}','(',')']\n",
    "    return c in ops"
   ]
  },
  {
   "cell_type": "markdown",
   "id": "1fbc0f41",
   "metadata": {},
   "source": [
    "+ +\n",
    "- -\n",
    "&&\n",
    "||\n",
    ">>\n",
    "<<\n",
    "\n",
    "->\n",
    ".\n",
    "\n",
    "+=\n",
    "-=\n",
    "*=\n",
    "/=\n",
    "&=\n",
    "|=\n",
    "^=\n",
    "!=\n",
    ">=\n",
    "<=\n",
    "==\n",
    "\n",
    "+\n",
    "-\n",
    "*\n",
    "/\n",
    "&\n",
    "|\n",
    "^\n",
    "!\n",
    ">\n",
    "<\n",
    "="
   ]
  },
  {
   "cell_type": "code",
   "execution_count": 226,
   "id": "4ffeb93a",
   "metadata": {},
   "outputs": [],
   "source": [
    "tokens = []\n",
    "\n",
    "temp_str = \"\"\n",
    "si = len(inp)\n",
    "i = 0\n",
    "const_str = False\n",
    "char_lit = False\n",
    "\n",
    "while i<si:\n",
    "    ch = inp[i]\n",
    "    \n",
    "    i+=1\n",
    "    if ch=='\"':\n",
    "        temp_str+=ch\n",
    "        if const_str:\n",
    "            const_str = False\n",
    "        else:\n",
    "            const_str = True\n",
    "        continue\n",
    "    \n",
    "    if ch=='\\'':\n",
    "        temp_str+=ch\n",
    "        if char_lit:\n",
    "            char_lit = False\n",
    "        else:\n",
    "            char_lit = True\n",
    "        continue\n",
    "    \n",
    "    if const_str or char_lit:\n",
    "        temp_str+=ch\n",
    "        continue\n",
    "    \n",
    "    if ch==' ' or ch=='\\t' or ch=='\\n' :\n",
    "        if temp_str!=\"\":\n",
    "            tokens.append(temp_str)\n",
    "            temp_str = \"\"\n",
    "    elif checkOperator(ch):\n",
    "        if temp_str!=\"\":\n",
    "            tokens.append(temp_str)\n",
    "            temp_str = \"\"\n",
    "        \n",
    "        if checkBrackets(ch):\n",
    "            tokens.append(ch)\n",
    "            continue\n",
    "            \n",
    "        if ch == '-':\n",
    "            if i<si and inp[i]=='>':\n",
    "                tokens.append(\"->\")\n",
    "                i+=1\n",
    "                continue\n",
    "        \n",
    "        if checkSame(ch):\n",
    "            if i<si and inp[i]==ch:\n",
    "                tokens.append(\"\"+ch+ch)\n",
    "                i+=1\n",
    "                continue\n",
    "                \n",
    "        if checkEqual(ch):\n",
    "            if i<si and inp[i]=='=':\n",
    "                tokens.append(\"\"+ch+\"=\")\n",
    "                i+=1\n",
    "                continue\n",
    "        \n",
    "        tokens.append(ch)\n",
    "    else:\n",
    "        temp_str+=ch      "
   ]
  },
  {
   "cell_type": "code",
   "execution_count": 227,
   "id": "79633aa3",
   "metadata": {},
   "outputs": [
    {
     "data": {
      "text/plain": [
       "['#include',\n",
       " '<',\n",
       " 'iostream',\n",
       " '>',\n",
       " 'using',\n",
       " 'namespace',\n",
       " 'std',\n",
       " ';',\n",
       " 'int',\n",
       " 'main',\n",
       " '(',\n",
       " ')',\n",
       " '{',\n",
       " 'int',\n",
       " 'first_number',\n",
       " '=',\n",
       " '-',\n",
       " '52',\n",
       " ';',\n",
       " 'int',\n",
       " 'sum',\n",
       " ';',\n",
       " 'double',\n",
       " 'a',\n",
       " '=',\n",
       " 'first_number',\n",
       " ';',\n",
       " 'int',\n",
       " 'd',\n",
       " '=',\n",
       " 'a',\n",
       " '+',\n",
       " 'a',\n",
       " ';',\n",
       " 'bool',\n",
       " 'b',\n",
       " '=',\n",
       " 'true',\n",
       " ';',\n",
       " 'string',\n",
       " 's',\n",
       " '=',\n",
       " '\"anand\"',\n",
       " ';',\n",
       " 'char',\n",
       " 'a',\n",
       " '=',\n",
       " \"'a'\",\n",
       " ';',\n",
       " 'sum',\n",
       " '=',\n",
       " 'first_number',\n",
       " ';',\n",
       " 'if',\n",
       " '(',\n",
       " 'true',\n",
       " ')',\n",
       " '{',\n",
       " 'int',\n",
       " 'my_num',\n",
       " '=',\n",
       " 'first_number',\n",
       " '+',\n",
       " 'a',\n",
       " ';',\n",
       " '}',\n",
       " 'else',\n",
       " '{',\n",
       " 'int',\n",
       " 'b',\n",
       " '=',\n",
       " '2',\n",
       " ';',\n",
       " '}',\n",
       " '}']"
      ]
     },
     "execution_count": 227,
     "metadata": {},
     "output_type": "execute_result"
    }
   ],
   "source": [
    "tokens"
   ]
  },
  {
   "cell_type": "code",
   "execution_count": 228,
   "id": "cb82fde5",
   "metadata": {},
   "outputs": [
    {
     "name": "stdout",
     "output_type": "stream",
     "text": [
      "Stored 'tokens' (list)\n"
     ]
    }
   ],
   "source": [
    "%store tokens"
   ]
  },
  {
   "cell_type": "code",
   "execution_count": null,
   "id": "4e9ee2fa",
   "metadata": {},
   "outputs": [],
   "source": []
  }
 ],
 "metadata": {
  "kernelspec": {
   "display_name": "Python 3 (ipykernel)",
   "language": "python",
   "name": "python3"
  },
  "language_info": {
   "codemirror_mode": {
    "name": "ipython",
    "version": 3
   },
   "file_extension": ".py",
   "mimetype": "text/x-python",
   "name": "python",
   "nbconvert_exporter": "python",
   "pygments_lexer": "ipython3",
   "version": "3.11.1"
  },
  "vscode": {
   "interpreter": {
    "hash": "2989b705f35e5f39577c13e2abe37855b396301a6126773aa2a796deedf0eba4"
   }
  }
 },
 "nbformat": 4,
 "nbformat_minor": 5
}
