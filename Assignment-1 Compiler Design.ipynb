{
 "cells": [
  {
   "cell_type": "code",
   "execution_count": 1,
   "id": "5825cf0e",
   "metadata": {},
   "outputs": [],
   "source": [
    "file = open(\"pr.cpp\",\"r\")"
   ]
  },
  {
   "cell_type": "code",
   "execution_count": 2,
   "id": "ae15775e",
   "metadata": {},
   "outputs": [],
   "source": [
    "inp = file.read()"
   ]
  },
  {
   "cell_type": "code",
   "execution_count": 3,
   "id": "0353966f",
   "metadata": {},
   "outputs": [
    {
     "data": {
      "text/plain": [
       "'#include <iostream>\\nusing namespace std;\\n\\nint main() {\\n\\n  int first_number, second_number, sum;\\n  char c = \\'d\\';\\n    \\n  cout << \"Enter two integers: \";\\n  cin >> first_number >> second_number;\\n\\n  // sum of two numbers in stored in variable sumOfTwoNumbers\\n  sum = first_number + second_number;\\n\\n  // prints sum \\n  cout << first_number << \" + \" <<  second_number << \" = \" << sum;     \\n\\n  return 0;\\n}'"
      ]
     },
     "execution_count": 3,
     "metadata": {},
     "output_type": "execute_result"
    }
   ],
   "source": [
    "inp"
   ]
  },
  {
   "cell_type": "code",
   "execution_count": 4,
   "id": "c10fd078",
   "metadata": {},
   "outputs": [],
   "source": [
    "def removeComments(inp):\n",
    "    parsed = \"\"\n",
    "    si = len(inp)\n",
    "    \n",
    "    sing_comm = False\n",
    "    mul_comm = False\n",
    "    \n",
    "    for i, ch in enumerate(inp):\n",
    "        if sing_comm:\n",
    "            if ch == '\\n':\n",
    "                sing_comm = False                \n",
    "        elif mul_comm:\n",
    "            if ch == '*' and (i+1<si and inp[i+1]=='/'):\n",
    "                mul_comm = False\n",
    "        elif ch == '/':\n",
    "            if i+1<si and inp[i+1]=='/':\n",
    "                sing_comm = True\n",
    "            elif i+1<si and inp[i+1]=='*':\n",
    "                mul_comm = True\n",
    "            else:\n",
    "                parsed+=ch\n",
    "        else:\n",
    "            parsed+=ch\n",
    "    return parsed"
   ]
  },
  {
   "cell_type": "code",
   "execution_count": 5,
   "id": "27ba9a40",
   "metadata": {},
   "outputs": [],
   "source": [
    "inp = removeComments(inp)"
   ]
  },
  {
   "cell_type": "code",
   "execution_count": 6,
   "id": "a6229d35",
   "metadata": {},
   "outputs": [],
   "source": [
    "def checkOperator(c):\n",
    "    ops = [',',';',':','?','[',']','{','}','(',')','+','=','-','|','&','^','*','/','!','<','>','.']\n",
    "    return c in ops"
   ]
  },
  {
   "cell_type": "code",
   "execution_count": 7,
   "id": "d046401b",
   "metadata": {},
   "outputs": [],
   "source": [
    "def checkEqual(c):\n",
    "    ops = ['+','-','*','/','&','|','^','!','<','>']\n",
    "    return c in ops"
   ]
  },
  {
   "cell_type": "code",
   "execution_count": 8,
   "id": "d3fe6449",
   "metadata": {},
   "outputs": [],
   "source": [
    "def checkSame(c):\n",
    "    ops = ['+','-','&','|','<','>']\n",
    "    return c in ops"
   ]
  },
  {
   "cell_type": "code",
   "execution_count": 9,
   "id": "dc67a844",
   "metadata": {},
   "outputs": [],
   "source": [
    "def checkBrackets(c):\n",
    "    ops = ['[',']','{','}','(',')']\n",
    "    return c in ops"
   ]
  },
  {
   "cell_type": "markdown",
   "id": "1fbc0f41",
   "metadata": {},
   "source": [
    "+ +\n",
    "- -\n",
    "&&\n",
    "||\n",
    ">>\n",
    "<<\n",
    "\n",
    "->\n",
    ".\n",
    "\n",
    "+=\n",
    "-=\n",
    "*=\n",
    "/=\n",
    "&=\n",
    "|=\n",
    "^=\n",
    "!=\n",
    ">=\n",
    "<=\n",
    "==\n",
    "\n",
    "+\n",
    "-\n",
    "*\n",
    "/\n",
    "&\n",
    "|\n",
    "^\n",
    "!\n",
    ">\n",
    "<\n",
    "="
   ]
  },
  {
   "cell_type": "code",
   "execution_count": 10,
   "id": "4ffeb93a",
   "metadata": {},
   "outputs": [],
   "source": [
    "tokens = []\n",
    "\n",
    "temp_str = \"\"\n",
    "si = len(inp)\n",
    "i = 0\n",
    "const_str = False\n",
    "char_lit = False\n",
    "\n",
    "while i<si:\n",
    "    ch = inp[i]\n",
    "    \n",
    "    i+=1\n",
    "    if ch=='\"':\n",
    "        temp_str+=ch\n",
    "        if const_str:\n",
    "            const_str = False\n",
    "        else:\n",
    "            const_str = True\n",
    "        continue\n",
    "    \n",
    "    if ch=='\\'':\n",
    "        temp_str+=ch\n",
    "        if char_lit:\n",
    "            char_lit = False\n",
    "        else:\n",
    "            char_lit = True\n",
    "        continue\n",
    "    \n",
    "    if const_str or char_lit:\n",
    "        temp_str+=ch\n",
    "        continue\n",
    "    \n",
    "    if ch==' ' or ch=='\\t' or ch=='\\n' :\n",
    "        if temp_str!=\"\":\n",
    "            tokens.append(temp_str)\n",
    "            temp_str = \"\"\n",
    "    elif checkOperator(ch):\n",
    "        if temp_str!=\"\":\n",
    "            tokens.append(temp_str)\n",
    "            temp_str = \"\"\n",
    "        \n",
    "        if checkBrackets(ch):\n",
    "            tokens.append(ch)\n",
    "            continue\n",
    "            \n",
    "        if ch == '-':\n",
    "            if i<si and inp[i]=='>':\n",
    "                tokens.append(\"->\")\n",
    "                i+=1\n",
    "                continue\n",
    "        \n",
    "        if checkSame(ch):\n",
    "            if i<si and inp[i]==ch:\n",
    "                tokens.append(\"\"+ch+ch)\n",
    "                i+=1\n",
    "                continue\n",
    "                \n",
    "        if checkEqual(ch):\n",
    "            if i<si and inp[i]=='=':\n",
    "                tokens.append(\"\"+ch+\"=\")\n",
    "                i+=1\n",
    "                continue\n",
    "        \n",
    "        tokens.append(ch)\n",
    "    else:\n",
    "        temp_str+=ch      "
   ]
  },
  {
   "cell_type": "code",
   "execution_count": 11,
   "id": "79633aa3",
   "metadata": {},
   "outputs": [
    {
     "data": {
      "text/plain": [
       "['#include',\n",
       " '<',\n",
       " 'iostream',\n",
       " '>',\n",
       " 'using',\n",
       " 'namespace',\n",
       " 'std',\n",
       " ';',\n",
       " 'int',\n",
       " 'main',\n",
       " '(',\n",
       " ')',\n",
       " '{',\n",
       " 'int',\n",
       " 'first_number',\n",
       " ',',\n",
       " 'second_number',\n",
       " ',',\n",
       " 'sum',\n",
       " ';',\n",
       " 'char',\n",
       " 'c',\n",
       " '=',\n",
       " \"'d'\",\n",
       " ';',\n",
       " 'cout',\n",
       " '<<',\n",
       " '\"Enter two integers: \"',\n",
       " ';',\n",
       " 'cin',\n",
       " '>>',\n",
       " 'first_number',\n",
       " '>>',\n",
       " 'second_number',\n",
       " ';',\n",
       " 'sum',\n",
       " '=',\n",
       " 'first_number',\n",
       " '+',\n",
       " 'second_number',\n",
       " ';',\n",
       " 'cout',\n",
       " '<<',\n",
       " 'first_number',\n",
       " '<<',\n",
       " '\" + \"',\n",
       " '<<',\n",
       " 'second_number',\n",
       " '<<',\n",
       " '\" = \"',\n",
       " '<<',\n",
       " 'sum',\n",
       " ';',\n",
       " 'return',\n",
       " '0',\n",
       " ';',\n",
       " '}']"
      ]
     },
     "execution_count": 11,
     "metadata": {},
     "output_type": "execute_result"
    }
   ],
   "source": [
    "tokens"
   ]
  },
  {
   "cell_type": "code",
   "execution_count": null,
   "id": "cb82fde5",
   "metadata": {},
   "outputs": [],
   "source": []
  }
 ],
 "metadata": {
  "kernelspec": {
   "display_name": "Python 3 (ipykernel)",
   "language": "python",
   "name": "python3"
  },
  "language_info": {
   "codemirror_mode": {
    "name": "ipython",
    "version": 3
   },
   "file_extension": ".py",
   "mimetype": "text/x-python",
   "name": "python",
   "nbconvert_exporter": "python",
   "pygments_lexer": "ipython3",
   "version": "3.10.7"
  }
 },
 "nbformat": 4,
 "nbformat_minor": 5
}
